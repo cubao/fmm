{
 "cells": [
  {
   "cell_type": "markdown",
   "metadata": {},
   "source": [
    "## Demo of fmm Python API"
   ]
  },
  {
   "cell_type": "code",
   "execution_count": 1,
   "metadata": {},
   "outputs": [],
   "source": [
    "from fmm import Network,NetworkGraph,FastMapMatch,FastMapMatchConfig,UBODT"
   ]
  },
  {
   "cell_type": "markdown",
   "metadata": {},
   "source": [
    "### Load network data and graph"
   ]
  },
  {
   "cell_type": "code",
   "execution_count": 2,
   "metadata": {},
   "outputs": [
    {
     "name": "stdout",
     "output_type": "stream",
     "text": [
      "Nodes 17 edges 30[2023-06-04 10:35:58.751] [info] [network.cpp:142] Read network from file /home/tzx/git/fmm/example/notebook/../data/edges.shp\n",
      "[2023-06-04 10:35:58.784] [info] [network.cpp:219] Number of edges 30 nodes 17\n",
      "[2023-06-04 10:35:58.784] [info] [network.cpp:220] Field index: id 1 source 2 target 3\n",
      "[2023-06-04 10:35:58.784] [info] [network.cpp:223] Read network done.\n",
      "\n",
      "[2023-06-04 10:35:58.785] [info] [network_graph.cpp:18] Construct graph from network edges start\n",
      "[2023-06-04 10:35:58.785] [info] [network_graph.cpp:31] Graph nodes 17 edges 30\n",
      "[2023-06-04 10:35:58.785] [info] [network_graph.cpp:32] Construct graph from network edges end\n"
     ]
    }
   ],
   "source": [
    "import os\n",
    "PWD = os.getcwd() # os.path.abspath(os.path.dirname(__file__))\n",
    "network = Network(f\"{PWD}/../data/edges.shp\")\n",
    "print(\"Nodes {} edges {}\".format(network.get_node_count(),network.get_edge_count()))\n",
    "graph = NetworkGraph(network)"
   ]
  },
  {
   "cell_type": "code",
   "execution_count": 10,
   "metadata": {},
   "outputs": [
    {
     "name": "stdout",
     "output_type": "stream",
     "text": [
      "{\"srid\":4326,\"edges\":[{\"id\":1,\"source\":1,\"target\":2,\"coordinates\":[[2.0,1.0],[2.0,0.0]]},{\"id\":2,\"source\":2,\"target\":1,\"coordinates\":[[2.0,0.0],[2.0,1.0]]},{\"id\":3,\"source\":3,\"target\":1,\"coordinates\":[[3.0,1.0],[2.0,1.0]]},{\"id\":4,\"source\":4,\"target\":3,\"coordinates\":[[4.0,1.0],[3.0,1.0]]},{\"id\":5,\"source\":1,\"target\":5,\"coordinates\":[[2.0,1.0],[2.0,2.0]]},{\"id\":6,\"source\":5,\"target\":1,\"coordinates\":[[2.0,2.0],[2.0,1.0]]},{\"id\":7,\"source\":3,\"target\":6,\"coordinates\":[[3.0,1.0],[3.0,2.0]]},{\"id\":8,\"\n"
     ]
    },
    {
     "ename": "AssertionError",
     "evalue": "old: {\"srid\":4326,\"edges\":[{\"id\":1,\"source\":1,\"target\":2,\"coordinates\":[[2.0,1.0],[2.0,0.0]]},{\"id\":2,\"source\":2,\"target\":1,\"coordinates\":[[2.0,0.0],[2.0,1.0]]},{\"id\":3,\"source\":3,\"target\":1,\"coordinates\":[[3.0,1.0],[2.0,1.0]]},{\"id\":4,\"source\":4,\"target\":3,\"coordinates\":[[4.0,1.0],[3.0,1.0]]},{\"id\":5,\"source\":1,\"target\":5,\"coordinates\":[[2.0,1.0],[2.0,2.0]]},{\"id\":6,\"source\":5,\"target\":1,\"coordinates\":[[2.0,2.0],[2.0,1.0]]},{\"id\":7,\"source\":3,\"target\":6,\"coordinates\":[[3.0,1.0],[3.0,2.0]]},{\"id\":8,\"source\":7,\"target\":8,\"coordinates\":[[0.0,2.0],[1.0,2.0]]},{\"id\":9,\"source\":8,\"target\":7,\"coordinates\":[[1.0,2.0],[0.0,2.0]]},{\"id\":10,\"source\":5,\"target\":8,\"coordinates\":[[2.0,2.0],[1.0,2.0]]},{\"id\":11,\"source\":8,\"target\":5,\"coordinates\":[[1.0,2.0],[2.0,2.0]]},{\"id\":12,\"source\":6,\"target\":5,\"coordinates\":[[3.0,2.0],[2.0,2.0]]},{\"id\":13,\"source\":5,\"target\":6,\"coordinates\":[[2.0,2.0],[3.0,2.0]]},{\"id\":14,\"source\":6,\"target\":9,\"coordinates\":[[3.0,2.0],[4.0,2.0]]},{\"id\":15,\"source\":9,\"target\":6,\"coordinates\":[[4.0,2.0],[3.0,2.0]]},{\"id\":16,\"source\":10,\"target\":5,\"coordinates\":[[2.0,3.0],[2.0,2.0]]},{\"id\":17,\"source\":5,\"target\":10,\"coordinates\":[[2.0,2.0],[2.0,3.0]]},{\"id\":18,\"source\":6,\"target\":11,\"coordinates\":[[3.0,2.0],[3.0,3.0]]},{\"id\":19,\"source\":10,\"target\":11,\"coordinates\":[[2.0,3.0],[3.0,3.0]]},{\"id\":20,\"source\":11,\"target\":12,\"coordinates\":[[3.0,3.0],[4.0,3.0]]},{\"id\":21,\"source\":13,\"target\":10,\"coordinates\":[[2.0,4.0],[2.0,3.0]]},{\"id\":22,\"source\":10,\"target\":13,\"coordinates\":[[2.0,3.0],[2.0,4.0]]},{\"id\":23,\"source\":9,\"target\":12,\"coordinates\":[[4.0,2.0],[4.0,3.0]]},{\"id\":24,\"source\":12,\"target\":9,\"coordinates\":[[4.0,3.0],[4.0,2.0]]},{\"id\":25,\"source\":9,\"target\":4,\"coordinates\":[[4.0,2.0],[4.0,1.0]]},{\"id\":26,\"source\":4,\"target\":9,\"coordinates\":[[4.0,1.0],[4.0,2.0]]},{\"id\":27,\"source\":14,\"target\":15,\"coordinates\":[[0.5,3.5],[1.999999999999,3.5]]},{\"id\":28,\"source\":15,\"target\":14,\"coordinates\":[[1.999999999999,3.5],[0.5,3.5]]},{\"id\":29,\"source\":16,\"target\":17,\"coordinates\":[[3.5,4.0],[3.5,2.3]]},{\"id\":30,\"source\":17,\"target\":16,\"coordinates\":[[3.5,2.3],[3.5,4.0]]}]},\nnew: {\"srid\":4326,\"edges\":[{\"id\":1,\"source\":1,\"target\":2,\"coordinates\":[[2.0,1.0],[2.0,0.0]]},{\"id\":2,\"source\":2,\"target\":1,\"coordinates\":[[2.0,0.0],[2.0,1.0]]},{\"id\":3,\"source\":3,\"target\":1,\"coordinates\":[[3.0,1.0],[2.0,1.0]]},{\"id\":4,\"source\":4,\"target\":3,\"coordinates\":[[4.0,1.0],[3.0,1.0]]},{\"id\":5,\"source\":1,\"target\":5,\"coordinates\":[[2.0,1.0],[2.0,2.0]]},{\"id\":6,\"source\":5,\"target\":1,\"coordinates\":[[2.0,2.0],[2.0,1.0]]},{\"id\":7,\"source\":3,\"target\":6,\"coordinates\":[[3.0,1.0],[3.0,2.0]]},{\"id\":8,\"source\":7,\"target\":8,\"coordinates\":[[0.0,2.0],[1.0,2.0]]},{\"id\":9,\"source\":8,\"target\":7,\"coordinates\":[[1.0,2.0],[0.0,2.0]]},{\"id\":10,\"source\":5,\"target\":8,\"coordinates\":[[2.0,2.0],[1.0,2.0]]},{\"id\":11,\"source\":8,\"target\":5,\"coordinates\":[[1.0,2.0],[2.0,2.0]]},{\"id\":12,\"source\":6,\"target\":5,\"coordinates\":[[3.0,2.0],[2.0,2.0]]},{\"id\":13,\"source\":5,\"target\":6,\"coordinates\":[[2.0,2.0],[3.0,2.0]]},{\"id\":14,\"source\":6,\"target\":9,\"coordinates\":[[3.0,2.0],[4.0,2.0]]},{\"id\":15,\"source\":9,\"target\":6,\"coordinates\":[[4.0,2.0],[3.0,2.0]]},{\"id\":16,\"source\":10,\"target\":5,\"coordinates\":[[2.0,3.0],[2.0,2.0]]},{\"id\":17,\"source\":5,\"target\":10,\"coordinates\":[[2.0,2.0],[2.0,3.0]]},{\"id\":18,\"source\":6,\"target\":4294967295,\"coordinates\":[[3.0,2.0],[3.0,3.0]]},{\"id\":19,\"source\":10,\"target\":4294967295,\"coordinates\":[[2.0,3.0],[3.0,3.0]]},{\"id\":20,\"source\":4294967295,\"target\":4294967295,\"coordinates\":[[3.0,3.0],[4.0,3.0]]},{\"id\":21,\"source\":4294967295,\"target\":10,\"coordinates\":[[2.0,4.0],[2.0,3.0]]},{\"id\":22,\"source\":10,\"target\":4294967295,\"coordinates\":[[2.0,3.0],[2.0,4.0]]},{\"id\":23,\"source\":9,\"target\":4294967295,\"coordinates\":[[4.0,2.0],[4.0,3.0]]},{\"id\":24,\"source\":4294967295,\"target\":9,\"coordinates\":[[4.0,3.0],[4.0,2.0]]},{\"id\":25,\"source\":9,\"target\":4,\"coordinates\":[[4.0,2.0],[4.0,1.0]]},{\"id\":26,\"source\":4,\"target\":9,\"coordinates\":[[4.0,1.0],[4.0,2.0]]},{\"id\":27,\"source\":4294967295,\"target\":4294967295,\"coordinates\":[[0.5,3.5],[1.999999999999,3.5]]},{\"id\":28,\"source\":4294967295,\"target\":4294967295,\"coordinates\":[[1.999999999999,3.5],[0.5,3.5]]},{\"id\":29,\"source\":4294967295,\"target\":4294967295,\"coordinates\":[[3.5,4.0],[3.5,2.3]]},{\"id\":30,\"source\":4294967295,\"target\":4294967295,\"coordinates\":[[3.5,2.3],[3.5,4.0]]}]}",
     "output_type": "error",
     "traceback": [
      "\u001b[0;31m---------------------------------------------------------------------------\u001b[0m",
      "\u001b[0;31mAssertionError\u001b[0m                            Traceback (most recent call last)",
      "Cell \u001b[0;32mIn[10], line 7\u001b[0m\n\u001b[1;32m      5\u001b[0m nn\u001b[38;5;241m.\u001b[39mloads(dumps)\n\u001b[1;32m      6\u001b[0m redumps \u001b[38;5;241m=\u001b[39m nn\u001b[38;5;241m.\u001b[39mdumps()\n\u001b[0;32m----> 7\u001b[0m \u001b[38;5;28;01massert\u001b[39;00m redumps \u001b[38;5;241m==\u001b[39m dumps, \u001b[38;5;124mf\u001b[39m\u001b[38;5;124m'\u001b[39m\u001b[38;5;124mold: \u001b[39m\u001b[38;5;132;01m{\u001b[39;00mdumps\u001b[38;5;132;01m}\u001b[39;00m\u001b[38;5;124m,\u001b[39m\u001b[38;5;130;01m\\n\u001b[39;00m\u001b[38;5;124mnew: \u001b[39m\u001b[38;5;132;01m{\u001b[39;00mredumps\u001b[38;5;132;01m}\u001b[39;00m\u001b[38;5;124m'\u001b[39m\n",
      "\u001b[0;31mAssertionError\u001b[0m: old: {\"srid\":4326,\"edges\":[{\"id\":1,\"source\":1,\"target\":2,\"coordinates\":[[2.0,1.0],[2.0,0.0]]},{\"id\":2,\"source\":2,\"target\":1,\"coordinates\":[[2.0,0.0],[2.0,1.0]]},{\"id\":3,\"source\":3,\"target\":1,\"coordinates\":[[3.0,1.0],[2.0,1.0]]},{\"id\":4,\"source\":4,\"target\":3,\"coordinates\":[[4.0,1.0],[3.0,1.0]]},{\"id\":5,\"source\":1,\"target\":5,\"coordinates\":[[2.0,1.0],[2.0,2.0]]},{\"id\":6,\"source\":5,\"target\":1,\"coordinates\":[[2.0,2.0],[2.0,1.0]]},{\"id\":7,\"source\":3,\"target\":6,\"coordinates\":[[3.0,1.0],[3.0,2.0]]},{\"id\":8,\"source\":7,\"target\":8,\"coordinates\":[[0.0,2.0],[1.0,2.0]]},{\"id\":9,\"source\":8,\"target\":7,\"coordinates\":[[1.0,2.0],[0.0,2.0]]},{\"id\":10,\"source\":5,\"target\":8,\"coordinates\":[[2.0,2.0],[1.0,2.0]]},{\"id\":11,\"source\":8,\"target\":5,\"coordinates\":[[1.0,2.0],[2.0,2.0]]},{\"id\":12,\"source\":6,\"target\":5,\"coordinates\":[[3.0,2.0],[2.0,2.0]]},{\"id\":13,\"source\":5,\"target\":6,\"coordinates\":[[2.0,2.0],[3.0,2.0]]},{\"id\":14,\"source\":6,\"target\":9,\"coordinates\":[[3.0,2.0],[4.0,2.0]]},{\"id\":15,\"source\":9,\"target\":6,\"coordinates\":[[4.0,2.0],[3.0,2.0]]},{\"id\":16,\"source\":10,\"target\":5,\"coordinates\":[[2.0,3.0],[2.0,2.0]]},{\"id\":17,\"source\":5,\"target\":10,\"coordinates\":[[2.0,2.0],[2.0,3.0]]},{\"id\":18,\"source\":6,\"target\":11,\"coordinates\":[[3.0,2.0],[3.0,3.0]]},{\"id\":19,\"source\":10,\"target\":11,\"coordinates\":[[2.0,3.0],[3.0,3.0]]},{\"id\":20,\"source\":11,\"target\":12,\"coordinates\":[[3.0,3.0],[4.0,3.0]]},{\"id\":21,\"source\":13,\"target\":10,\"coordinates\":[[2.0,4.0],[2.0,3.0]]},{\"id\":22,\"source\":10,\"target\":13,\"coordinates\":[[2.0,3.0],[2.0,4.0]]},{\"id\":23,\"source\":9,\"target\":12,\"coordinates\":[[4.0,2.0],[4.0,3.0]]},{\"id\":24,\"source\":12,\"target\":9,\"coordinates\":[[4.0,3.0],[4.0,2.0]]},{\"id\":25,\"source\":9,\"target\":4,\"coordinates\":[[4.0,2.0],[4.0,1.0]]},{\"id\":26,\"source\":4,\"target\":9,\"coordinates\":[[4.0,1.0],[4.0,2.0]]},{\"id\":27,\"source\":14,\"target\":15,\"coordinates\":[[0.5,3.5],[1.999999999999,3.5]]},{\"id\":28,\"source\":15,\"target\":14,\"coordinates\":[[1.999999999999,3.5],[0.5,3.5]]},{\"id\":29,\"source\":16,\"target\":17,\"coordinates\":[[3.5,4.0],[3.5,2.3]]},{\"id\":30,\"source\":17,\"target\":16,\"coordinates\":[[3.5,2.3],[3.5,4.0]]}]},\nnew: {\"srid\":4326,\"edges\":[{\"id\":1,\"source\":1,\"target\":2,\"coordinates\":[[2.0,1.0],[2.0,0.0]]},{\"id\":2,\"source\":2,\"target\":1,\"coordinates\":[[2.0,0.0],[2.0,1.0]]},{\"id\":3,\"source\":3,\"target\":1,\"coordinates\":[[3.0,1.0],[2.0,1.0]]},{\"id\":4,\"source\":4,\"target\":3,\"coordinates\":[[4.0,1.0],[3.0,1.0]]},{\"id\":5,\"source\":1,\"target\":5,\"coordinates\":[[2.0,1.0],[2.0,2.0]]},{\"id\":6,\"source\":5,\"target\":1,\"coordinates\":[[2.0,2.0],[2.0,1.0]]},{\"id\":7,\"source\":3,\"target\":6,\"coordinates\":[[3.0,1.0],[3.0,2.0]]},{\"id\":8,\"source\":7,\"target\":8,\"coordinates\":[[0.0,2.0],[1.0,2.0]]},{\"id\":9,\"source\":8,\"target\":7,\"coordinates\":[[1.0,2.0],[0.0,2.0]]},{\"id\":10,\"source\":5,\"target\":8,\"coordinates\":[[2.0,2.0],[1.0,2.0]]},{\"id\":11,\"source\":8,\"target\":5,\"coordinates\":[[1.0,2.0],[2.0,2.0]]},{\"id\":12,\"source\":6,\"target\":5,\"coordinates\":[[3.0,2.0],[2.0,2.0]]},{\"id\":13,\"source\":5,\"target\":6,\"coordinates\":[[2.0,2.0],[3.0,2.0]]},{\"id\":14,\"source\":6,\"target\":9,\"coordinates\":[[3.0,2.0],[4.0,2.0]]},{\"id\":15,\"source\":9,\"target\":6,\"coordinates\":[[4.0,2.0],[3.0,2.0]]},{\"id\":16,\"source\":10,\"target\":5,\"coordinates\":[[2.0,3.0],[2.0,2.0]]},{\"id\":17,\"source\":5,\"target\":10,\"coordinates\":[[2.0,2.0],[2.0,3.0]]},{\"id\":18,\"source\":6,\"target\":4294967295,\"coordinates\":[[3.0,2.0],[3.0,3.0]]},{\"id\":19,\"source\":10,\"target\":4294967295,\"coordinates\":[[2.0,3.0],[3.0,3.0]]},{\"id\":20,\"source\":4294967295,\"target\":4294967295,\"coordinates\":[[3.0,3.0],[4.0,3.0]]},{\"id\":21,\"source\":4294967295,\"target\":10,\"coordinates\":[[2.0,4.0],[2.0,3.0]]},{\"id\":22,\"source\":10,\"target\":4294967295,\"coordinates\":[[2.0,3.0],[2.0,4.0]]},{\"id\":23,\"source\":9,\"target\":4294967295,\"coordinates\":[[4.0,2.0],[4.0,3.0]]},{\"id\":24,\"source\":4294967295,\"target\":9,\"coordinates\":[[4.0,3.0],[4.0,2.0]]},{\"id\":25,\"source\":9,\"target\":4,\"coordinates\":[[4.0,2.0],[4.0,1.0]]},{\"id\":26,\"source\":4,\"target\":9,\"coordinates\":[[4.0,1.0],[4.0,2.0]]},{\"id\":27,\"source\":4294967295,\"target\":4294967295,\"coordinates\":[[0.5,3.5],[1.999999999999,3.5]]},{\"id\":28,\"source\":4294967295,\"target\":4294967295,\"coordinates\":[[1.999999999999,3.5],[0.5,3.5]]},{\"id\":29,\"source\":4294967295,\"target\":4294967295,\"coordinates\":[[3.5,4.0],[3.5,2.3]]},{\"id\":30,\"source\":4294967295,\"target\":4294967295,\"coordinates\":[[3.5,2.3],[3.5,4.0]]}]}"
     ]
    }
   ],
   "source": [
    "# from/to_json\n",
    "dumps = network.dumps()\n",
    "print(dumps[:500])\n",
    "nn = Network()\n",
    "nn.loads(dumps)\n",
    "redumps = nn.dumps()\n",
    "assert redumps == dumps, f'old: {dumps},\\nnew: {redumps}'"
   ]
  },
  {
   "cell_type": "markdown",
   "metadata": {},
   "source": [
    "### Precompute an UBODT file\n",
    "\n",
    "**This step can be skipped if you already created one UBODT file.**"
   ]
  },
  {
   "cell_type": "code",
   "execution_count": 6,
   "metadata": {},
   "outputs": [],
   "source": [
    "from fmm import UBODTGenAlgorithm"
   ]
  },
  {
   "cell_type": "code",
   "execution_count": 7,
   "metadata": {},
   "outputs": [],
   "source": [
    "ubodt_gen = UBODTGenAlgorithm(network,graph)"
   ]
  },
  {
   "cell_type": "code",
   "execution_count": 8,
   "metadata": {},
   "outputs": [
    {
     "name": "stdout",
     "output_type": "stream",
     "text": [
      "[2023-06-04 10:36:16.393] [info] [ubodt_gen_algorithm.cpp:94] Start to generate UBODT with delta 4\n",
      "[2023-06-04 10:36:16.393] [info] [ubodt_gen_algorithm.cpp:95] Output format csv\n",
      "Status: success\n",
      "Time takes 0.024 seconds\n",
      "\n",
      "[2023-06-04 10:36:16.405] [info] [ubodt_gen_algorithm.cpp:124] Progress 10 / 17\n"
     ]
    }
   ],
   "source": [
    "status = ubodt_gen.generate_ubodt(f\"{PWD}/../data/ubodt.txt\", 4, binary=False, use_omp=True)\n",
    "print(status)"
   ]
  },
  {
   "cell_type": "code",
   "execution_count": null,
   "metadata": {},
   "outputs": [],
   "source": [
    "path = f\"{PWD}/../data/ubodt.json\"\n",
    "status = ubodt_gen.generate_ubodt(path, 4, binary=False)\n",
    "print(status)"
   ]
  },
  {
   "cell_type": "markdown",
   "metadata": {},
   "source": [
    "### Load UBODT data"
   ]
  },
  {
   "cell_type": "code",
   "execution_count": null,
   "metadata": {},
   "outputs": [],
   "source": [
    "ubodt = UBODT.read_ubodt_csv(f\"{PWD}/../data/ubodt.txt\")"
   ]
  },
  {
   "cell_type": "markdown",
   "metadata": {},
   "source": [
    "### Create FMM model"
   ]
  },
  {
   "cell_type": "code",
   "execution_count": null,
   "metadata": {},
   "outputs": [],
   "source": [
    "model = FastMapMatch(network,graph,ubodt)"
   ]
  },
  {
   "cell_type": "markdown",
   "metadata": {},
   "source": [
    "### Define FMM configuration"
   ]
  },
  {
   "cell_type": "code",
   "execution_count": null,
   "metadata": {},
   "outputs": [],
   "source": [
    "k = 4\n",
    "radius = 0.4\n",
    "gps_error = 0.5\n",
    "fmm_config = FastMapMatchConfig(k,radius,gps_error)"
   ]
  },
  {
   "cell_type": "markdown",
   "metadata": {},
   "source": [
    "### Run map matching"
   ]
  },
  {
   "cell_type": "markdown",
   "metadata": {},
   "source": [
    "#### Match a single trajectory"
   ]
  },
  {
   "cell_type": "code",
   "execution_count": null,
   "metadata": {},
   "outputs": [],
   "source": [
    "wkt = \"LINESTRING(0.200812146892656 2.14088983050848,1.44262005649717 2.14879943502825,3.06408898305084 2.16066384180791,3.06408898305084 2.7103813559322,3.70872175141242 2.97930790960452,4.11606638418078 2.62337570621469)\""
   ]
  },
  {
   "cell_type": "code",
   "execution_count": null,
   "metadata": {},
   "outputs": [],
   "source": [
    "result = model.match_wkt(wkt,fmm_config)"
   ]
  },
  {
   "cell_type": "code",
   "execution_count": null,
   "metadata": {},
   "outputs": [],
   "source": [
    "print(\"Matched path: \", list(result.cpath))\n",
    "print(\"Matched edge for each point: \", list(result.opath))\n",
    "print(\"Matched edge index \",list(result.indices))\n",
    "print(\"Matched geometry: \",result.mgeom.export_wkt())\n",
    "print(\"Matched point \", result.pgeom.export_wkt())"
   ]
  },
  {
   "cell_type": "markdown",
   "metadata": {},
   "source": [
    "##### Print detailed match information"
   ]
  },
  {
   "cell_type": "code",
   "execution_count": null,
   "metadata": {},
   "outputs": [],
   "source": [
    "candidates = []\n",
    "for c in result.candidates:\n",
    "    candidates.append((c.edge_id,c.source,c.target,c.error,c.length,c.offset,c.spdist,c.ep,c.tp))"
   ]
  },
  {
   "cell_type": "code",
   "execution_count": null,
   "metadata": {},
   "outputs": [],
   "source": [
    "import pandas as pd\n",
    "df = pd.DataFrame(candidates,\n",
    "                  columns=[\"eid\",\"source\",\"target\",\"error\",\"length\",\"offset\",\"spdist\",\"ep\",\"tp\"])"
   ]
  },
  {
   "cell_type": "code",
   "execution_count": null,
   "metadata": {},
   "outputs": [],
   "source": [
    "df.head()"
   ]
  },
  {
   "cell_type": "markdown",
   "metadata": {},
   "source": [
    "#### Match trajectories in a GPS file"
   ]
  },
  {
   "cell_type": "code",
   "execution_count": null,
   "metadata": {},
   "outputs": [],
   "source": [
    "from fmm import GPSConfig,ResultConfig"
   ]
  },
  {
   "cell_type": "code",
   "execution_count": null,
   "metadata": {},
   "outputs": [],
   "source": [
    "input_config = GPSConfig()\n",
    "input_config.file = f\"{PWD}/../data/trips.csv\"\n",
    "input_config.id = \"id\""
   ]
  },
  {
   "cell_type": "code",
   "execution_count": null,
   "metadata": {},
   "outputs": [],
   "source": [
    "print(input_config.to_string())"
   ]
  },
  {
   "cell_type": "code",
   "execution_count": null,
   "metadata": {},
   "outputs": [],
   "source": [
    "result_config = ResultConfig()\n",
    "result_config.file = f\"{PWD}/../data/mr.txt\"\n",
    "result_config.output_config.write_opath = True\n",
    "print(result_config.to_string())"
   ]
  },
  {
   "cell_type": "code",
   "execution_count": null,
   "metadata": {},
   "outputs": [],
   "source": [
    "status = model.match_gps_file(input_config, result_config, fmm_config)"
   ]
  },
  {
   "cell_type": "code",
   "execution_count": null,
   "metadata": {},
   "outputs": [],
   "source": [
    "print(status)"
   ]
  },
  {
   "cell_type": "code",
   "execution_count": null,
   "metadata": {},
   "outputs": [],
   "source": []
  }
 ],
 "metadata": {
  "kernelspec": {
   "display_name": "Python 3 (ipykernel)",
   "language": "python",
   "name": "python3"
  },
  "language_info": {
   "codemirror_mode": {
    "name": "ipython",
    "version": 3
   },
   "file_extension": ".py",
   "mimetype": "text/x-python",
   "name": "python",
   "nbconvert_exporter": "python",
   "pygments_lexer": "ipython3",
   "version": "3.10.6"
  },
  "toc": {
   "base_numbering": 1,
   "nav_menu": {},
   "number_sections": true,
   "sideBar": true,
   "skip_h1_title": false,
   "title_cell": "Table of Contents",
   "title_sidebar": "Contents",
   "toc_cell": false,
   "toc_position": {},
   "toc_section_display": true,
   "toc_window_display": true
  }
 },
 "nbformat": 4,
 "nbformat_minor": 4
}
