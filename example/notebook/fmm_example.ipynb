{
 "cells": [
  {
   "cell_type": "markdown",
   "metadata": {},
   "source": [
    "## Demo of fmm Python API"
   ]
  },
  {
   "cell_type": "code",
   "execution_count": 1,
   "metadata": {},
   "outputs": [],
   "source": [
    "from fmm import Network,NetworkGraph,FastMapMatch,FastMapMatchConfig,UBODT"
   ]
  },
  {
   "cell_type": "markdown",
   "metadata": {},
   "source": [
    "### Load network data and graph"
   ]
  },
  {
   "cell_type": "code",
   "execution_count": 2,
   "metadata": {},
   "outputs": [
    {
     "name": "stdout",
     "output_type": "stream",
     "text": [
      "Nodes 17 edges 30\n",
      "[2023-06-04 11:14:25.747] [info] [network.cpp:155] Read network from file /home/tzx/git/fmm/example/notebook/../data/edges.shp\n",
      "[2023-06-04 11:14:25.774] [info] [network.cpp:232] Number of edges 30 nodes 17\n",
      "[2023-06-04 11:14:25.774] [info] [network.cpp:233] Field index: id 1 source 2 target 3\n",
      "[2023-06-04 11:14:25.774] [info] [network.cpp:236] Read network done.\n",
      "[2023-06-04 11:14:25.776] [info] [network_graph.cpp:18] Construct graph from network edges start\n",
      "[2023-06-04 11:14:25.776] [info] [network_graph.cpp:31] Graph nodes 17 edges 30\n",
      "[2023-06-04 11:14:25.776] [info] [network_graph.cpp:32] Construct graph from network edges end\n"
     ]
    }
   ],
   "source": [
    "import os\n",
    "PWD = os.getcwd() # os.path.abspath(os.path.dirname(__file__))\n",
    "network = Network(f\"{PWD}/../data/edges.shp\")\n",
    "print(\"Nodes {} edges {}\".format(network.get_node_count(),network.get_edge_count()))\n",
    "graph = NetworkGraph(network)"
   ]
  },
  {
   "cell_type": "code",
   "execution_count": 3,
   "metadata": {},
   "outputs": [
    {
     "name": "stdout",
     "output_type": "stream",
     "text": [
      "{\"srid\":4326,\"edges\":[{\"id\":1,\"source\":1,\"target\":2,\"coordinates\":[[2.0,1.0],[2.0,0.0]]},{\"id\":2,\"source\":2,\"target\":1,\"coordinates\":[[2.0,0.0],[2.0,1.0]]},{\"id\":3,\"source\":3,\"target\":1,\"coordinates\":[[3.0,1.0],[2.0,1.0]]},{\"id\":4,\"source\":4,\"target\":3,\"coordinates\":[[4.0,1.0],[3.0,1.0]]},{\"id\":5,\"source\":1,\"target\":5,\"coordinates\":[[2.0,1.0],[2.0,2.0]]},{\"id\":6,\"source\":5,\"target\":1,\"coordinates\":[[2.0,2.0],[2.0,1.0]]},{\"id\":7,\"source\":3,\"target\":6,\"coordinates\":[[3.0,1.0],[3.0,2.0]]},{\"id\":8,\"\n",
      "2097\n"
     ]
    }
   ],
   "source": [
    "dumps = network.dumps()\n",
    "print(dumps[:500])\n",
    "print(len(dumps))"
   ]
  },
  {
   "cell_type": "code",
   "execution_count": 4,
   "metadata": {},
   "outputs": [
    {
     "name": "stdout",
     "output_type": "stream",
     "text": [
      "[2023-06-04 11:14:25.797] [info] [network.cpp:113] Number of edges 30 nodes 17\n",
      "[2023-06-04 11:14:25.797] [info] [network.cpp:115] Read network done.\n"
     ]
    }
   ],
   "source": [
    "# from/to_json\n",
    "nn = Network()\n",
    "nn.loads(dumps)\n",
    "redumps = nn.dumps()\n",
    "assert redumps == dumps, f'old: {dumps},\\nnew: {redumps}'\n",
    "# network.dump('network.json')"
   ]
  },
  {
   "cell_type": "markdown",
   "metadata": {},
   "source": [
    "### Precompute an UBODT file\n",
    "\n",
    "**This step can be skipped if you already created one UBODT file.**"
   ]
  },
  {
   "cell_type": "code",
   "execution_count": 5,
   "metadata": {},
   "outputs": [],
   "source": [
    "from fmm import UBODTGenAlgorithm"
   ]
  },
  {
   "cell_type": "code",
   "execution_count": 6,
   "metadata": {},
   "outputs": [],
   "source": [
    "ubodt_gen = UBODTGenAlgorithm(network,graph)"
   ]
  },
  {
   "cell_type": "code",
   "execution_count": 7,
   "metadata": {},
   "outputs": [
    {
     "name": "stdout",
     "output_type": "stream",
     "text": [
      "[2023-06-04 11:14:25.825] [info] [ubodt_gen_algorithm.cpp:94] Start to generate UBODT with delta 4\n",
      "[2023-06-04 11:14:25.825] [info] [ubodt_gen_algorithm.cpp:95] Output format csv\n",
      "[2023-06-04 11:14:25.837] [info] [ubodt_gen_algorithm.cpp:124] Progress 10 / 17\n",
      "Status: success\n",
      "Time takes 0.029 seconds\n",
      "\n"
     ]
    }
   ],
   "source": [
    "status = ubodt_gen.generate_ubodt(f\"{PWD}/../data/ubodt.txt\", 4, binary=False, use_omp=True)\n",
    "print(status)"
   ]
  },
  {
   "cell_type": "code",
   "execution_count": 24,
   "metadata": {},
   "outputs": [
    {
     "name": "stdout",
     "output_type": "stream",
     "text": [
      "Status: success\n",
      "Time takes 0 seconds\n",
      "[2023-06-04 11:14:43.391] [info] [ubodt_gen_algorithm.cpp:156] Start to generate UBODT with delta 4\n",
      "[2023-06-04 11:14:43.391] [info] [ubodt_gen_algorithm.cpp:157] Output format json\n",
      "[2023-06-04 11:14:43.391] [info] [ubodt_gen_algorithm.cpp:160] Progress 0 / 17\n",
      "\n",
      "/home/tzx/git/fmm/example/notebook/../data/ubodt.json\n",
      "[2023-06-04 11:14:43.391] [info] [ubodt_gen_algorithm.cpp:160] Progress 10 / 17\n"
     ]
    }
   ],
   "source": [
    "path = f\"{PWD}/../data/ubodt.json\"\n",
    "status = ubodt_gen.generate_ubodt(path, 4, binary=False)\n",
    "print(status)\n",
    "print(path)"
   ]
  },
  {
   "cell_type": "markdown",
   "metadata": {},
   "source": [
    "### Load UBODT data"
   ]
  },
  {
   "cell_type": "code",
   "execution_count": 9,
   "metadata": {},
   "outputs": [
    {
     "name": "stdout",
     "output_type": "stream",
     "text": [
      "[2023-06-04 11:14:25.883] [info] [ubodt.cpp:225] Reading UBODT file (CSV format) from /home/tzx/git/fmm/example/notebook/../data/ubodt.txt\n",
      "[2023-06-04 11:14:25.883] [info] [ubodt.cpp:255] Finish reading UBODT with rows 138\n"
     ]
    }
   ],
   "source": [
    "ubodt = UBODT.read_ubodt_csv(f\"{PWD}/../data/ubodt.txt\")"
   ]
  },
  {
   "cell_type": "markdown",
   "metadata": {},
   "source": [
    "### Create FMM model"
   ]
  },
  {
   "cell_type": "code",
   "execution_count": 10,
   "metadata": {},
   "outputs": [],
   "source": [
    "model = FastMapMatch(network,graph,ubodt)"
   ]
  },
  {
   "cell_type": "markdown",
   "metadata": {},
   "source": [
    "### Define FMM configuration"
   ]
  },
  {
   "cell_type": "code",
   "execution_count": 11,
   "metadata": {},
   "outputs": [],
   "source": [
    "k = 4\n",
    "radius = 0.4\n",
    "gps_error = 0.5\n",
    "fmm_config = FastMapMatchConfig(k,radius,gps_error)"
   ]
  },
  {
   "cell_type": "markdown",
   "metadata": {},
   "source": [
    "### Run map matching"
   ]
  },
  {
   "cell_type": "markdown",
   "metadata": {},
   "source": [
    "#### Match a single trajectory"
   ]
  },
  {
   "cell_type": "code",
   "execution_count": 12,
   "metadata": {},
   "outputs": [],
   "source": [
    "wkt = \"LINESTRING(0.200812146892656 2.14088983050848,1.44262005649717 2.14879943502825,3.06408898305084 2.16066384180791,3.06408898305084 2.7103813559322,3.70872175141242 2.97930790960452,4.11606638418078 2.62337570621469)\""
   ]
  },
  {
   "cell_type": "code",
   "execution_count": 13,
   "metadata": {},
   "outputs": [],
   "source": [
    "result = model.match_wkt(wkt,fmm_config)"
   ]
  },
  {
   "cell_type": "code",
   "execution_count": 14,
   "metadata": {},
   "outputs": [
    {
     "name": "stdout",
     "output_type": "stream",
     "text": [
      "Matched path:  [8, 11, 13, 18, 20, 24]\n",
      "Matched edge for each point:  [8, 11, 18, 18, 20, 24]\n",
      "Matched edge index  [0, 1, 3, 3, 4, 5]\n",
      "Matched geometry:  LINESTRING(0.20081215 2,1 2,2 2,3 2,3 3,4 3,4 2.6233757)\n",
      "Matched point  LINESTRING(0.20081215 2,1.4426201 2,3 2.1606638,3 2.7103814,3.7087218 3,4 2.6233757)\n"
     ]
    }
   ],
   "source": [
    "print(\"Matched path: \", list(result.cpath))\n",
    "print(\"Matched edge for each point: \", list(result.opath))\n",
    "print(\"Matched edge index \",list(result.indices))\n",
    "print(\"Matched geometry: \",result.mgeom.export_wkt())\n",
    "print(\"Matched point \", result.pgeom.export_wkt())"
   ]
  },
  {
   "cell_type": "markdown",
   "metadata": {},
   "source": [
    "##### Print detailed match information"
   ]
  },
  {
   "cell_type": "code",
   "execution_count": 15,
   "metadata": {},
   "outputs": [],
   "source": [
    "candidates = []\n",
    "for c in result.candidates:\n",
    "    candidates.append((c.edge_id,c.source,c.target,c.error,c.length,c.offset,c.spdist,c.ep,c.tp))"
   ]
  },
  {
   "cell_type": "code",
   "execution_count": 16,
   "metadata": {},
   "outputs": [],
   "source": [
    "import pandas as pd\n",
    "df = pd.DataFrame(candidates,\n",
    "                  columns=[\"eid\",\"source\",\"target\",\"error\",\"length\",\"offset\",\"spdist\",\"ep\",\"tp\"])"
   ]
  },
  {
   "cell_type": "code",
   "execution_count": 17,
   "metadata": {},
   "outputs": [
    {
     "data": {
      "text/html": [
       "<div>\n",
       "<style scoped>\n",
       "    .dataframe tbody tr th:only-of-type {\n",
       "        vertical-align: middle;\n",
       "    }\n",
       "\n",
       "    .dataframe tbody tr th {\n",
       "        vertical-align: top;\n",
       "    }\n",
       "\n",
       "    .dataframe thead th {\n",
       "        text-align: right;\n",
       "    }\n",
       "</style>\n",
       "<table border=\"1\" class=\"dataframe\">\n",
       "  <thead>\n",
       "    <tr style=\"text-align: right;\">\n",
       "      <th></th>\n",
       "      <th>eid</th>\n",
       "      <th>source</th>\n",
       "      <th>target</th>\n",
       "      <th>error</th>\n",
       "      <th>length</th>\n",
       "      <th>offset</th>\n",
       "      <th>spdist</th>\n",
       "      <th>ep</th>\n",
       "      <th>tp</th>\n",
       "    </tr>\n",
       "  </thead>\n",
       "  <tbody>\n",
       "    <tr>\n",
       "      <th>0</th>\n",
       "      <td>8</td>\n",
       "      <td>7</td>\n",
       "      <td>8</td>\n",
       "      <td>0.140890</td>\n",
       "      <td>1.0</td>\n",
       "      <td>0.200812</td>\n",
       "      <td>0.000000</td>\n",
       "      <td>0.961078</td>\n",
       "      <td>0.000000</td>\n",
       "    </tr>\n",
       "    <tr>\n",
       "      <th>1</th>\n",
       "      <td>11</td>\n",
       "      <td>8</td>\n",
       "      <td>5</td>\n",
       "      <td>0.148799</td>\n",
       "      <td>1.0</td>\n",
       "      <td>0.442620</td>\n",
       "      <td>1.241808</td>\n",
       "      <td>0.956684</td>\n",
       "      <td>1.000000</td>\n",
       "    </tr>\n",
       "    <tr>\n",
       "      <th>2</th>\n",
       "      <td>18</td>\n",
       "      <td>6</td>\n",
       "      <td>11</td>\n",
       "      <td>0.064089</td>\n",
       "      <td>1.0</td>\n",
       "      <td>0.160664</td>\n",
       "      <td>1.718044</td>\n",
       "      <td>0.991819</td>\n",
       "      <td>0.943813</td>\n",
       "    </tr>\n",
       "    <tr>\n",
       "      <th>3</th>\n",
       "      <td>18</td>\n",
       "      <td>6</td>\n",
       "      <td>11</td>\n",
       "      <td>0.064089</td>\n",
       "      <td>1.0</td>\n",
       "      <td>0.710381</td>\n",
       "      <td>0.549718</td>\n",
       "      <td>0.991819</td>\n",
       "      <td>1.000000</td>\n",
       "    </tr>\n",
       "    <tr>\n",
       "      <th>4</th>\n",
       "      <td>20</td>\n",
       "      <td>11</td>\n",
       "      <td>12</td>\n",
       "      <td>0.020692</td>\n",
       "      <td>1.0</td>\n",
       "      <td>0.708722</td>\n",
       "      <td>0.998340</td>\n",
       "      <td>0.999144</td>\n",
       "      <td>0.699640</td>\n",
       "    </tr>\n",
       "  </tbody>\n",
       "</table>\n",
       "</div>"
      ],
      "text/plain": [
       "   eid  source  target     error  length    offset    spdist        ep  \\\n",
       "0    8       7       8  0.140890     1.0  0.200812  0.000000  0.961078   \n",
       "1   11       8       5  0.148799     1.0  0.442620  1.241808  0.956684   \n",
       "2   18       6      11  0.064089     1.0  0.160664  1.718044  0.991819   \n",
       "3   18       6      11  0.064089     1.0  0.710381  0.549718  0.991819   \n",
       "4   20      11      12  0.020692     1.0  0.708722  0.998340  0.999144   \n",
       "\n",
       "         tp  \n",
       "0  0.000000  \n",
       "1  1.000000  \n",
       "2  0.943813  \n",
       "3  1.000000  \n",
       "4  0.699640  "
      ]
     },
     "execution_count": 17,
     "metadata": {},
     "output_type": "execute_result"
    }
   ],
   "source": [
    "df.head()"
   ]
  },
  {
   "cell_type": "markdown",
   "metadata": {},
   "source": [
    "#### Match trajectories in a GPS file"
   ]
  },
  {
   "cell_type": "code",
   "execution_count": 18,
   "metadata": {},
   "outputs": [],
   "source": [
    "from fmm import GPSConfig,ResultConfig"
   ]
  },
  {
   "cell_type": "code",
   "execution_count": 19,
   "metadata": {},
   "outputs": [],
   "source": [
    "input_config = GPSConfig()\n",
    "input_config.file = f\"{PWD}/../data/trips.csv\"\n",
    "input_config.id = \"id\""
   ]
  },
  {
   "cell_type": "code",
   "execution_count": 20,
   "metadata": {},
   "outputs": [
    {
     "name": "stdout",
     "output_type": "stream",
     "text": [
      "gps file : /home/tzx/git/fmm/example/notebook/../data/trips.csv\n",
      "id column : id\n",
      "geom column : geom\n",
      "timestamp column : timestamp\n",
      "x column : x\n",
      "y column : y\n",
      "GPS point : false\n",
      "\n"
     ]
    }
   ],
   "source": [
    "print(input_config.to_string())"
   ]
  },
  {
   "cell_type": "code",
   "execution_count": 21,
   "metadata": {},
   "outputs": [
    {
     "name": "stdout",
     "output_type": "stream",
     "text": [
      "Result file : /home/tzx/git/fmm/example/notebook/../data/mr.txt\n",
      "Output fields: opath cpath mgeom \n"
     ]
    }
   ],
   "source": [
    "result_config = ResultConfig()\n",
    "result_config.file = f\"{PWD}/../data/mr.txt\"\n",
    "result_config.output_config.write_opath = True\n",
    "print(result_config.to_string())"
   ]
  },
  {
   "cell_type": "code",
   "execution_count": 22,
   "metadata": {},
   "outputs": [
    {
     "name": "stdout",
     "output_type": "stream",
     "text": [
      "[2023-06-04 11:14:26.322] [warning] [result_config.cpp:226] Overwrite existing result file /home/tzx/git/fmm/example/notebook/../data/mr.txt\n",
      "[2023-06-04 11:14:26.323] [info] [gps_reader.cpp:344] GPS data in trajectory CSV format\n",
      "[2023-06-04 11:14:26.323] [warning] [gps_reader.cpp:147] Timestamp column timestamp not found\n",
      "[2023-06-04 11:14:26.323] [info] [gps_reader.cpp:149] Id index 0 Geometry index 1 Timstamp index -1\n"
     ]
    }
   ],
   "source": [
    "status = model.match_gps_file(input_config, result_config, fmm_config)"
   ]
  },
  {
   "cell_type": "code",
   "execution_count": 23,
   "metadata": {},
   "outputs": [
    {
     "name": "stdout",
     "output_type": "stream",
     "text": [
      "Status: success\n",
      "Time takes 0.004 seconds\n",
      "Total points 17 matched 17\n",
      "Total trajectories 3 matched 3\n",
      "Map match percentage 1\n",
      "Map match speed 4250 points/s \n",
      "\n"
     ]
    }
   ],
   "source": [
    "print(status)"
   ]
  },
  {
   "cell_type": "code",
   "execution_count": null,
   "metadata": {},
   "outputs": [],
   "source": []
  }
 ],
 "metadata": {
  "kernelspec": {
   "display_name": "Python 3 (ipykernel)",
   "language": "python",
   "name": "python3"
  },
  "language_info": {
   "codemirror_mode": {
    "name": "ipython",
    "version": 3
   },
   "file_extension": ".py",
   "mimetype": "text/x-python",
   "name": "python",
   "nbconvert_exporter": "python",
   "pygments_lexer": "ipython3",
   "version": "3.10.6"
  },
  "toc": {
   "base_numbering": 1,
   "nav_menu": {},
   "number_sections": true,
   "sideBar": true,
   "skip_h1_title": false,
   "title_cell": "Table of Contents",
   "title_sidebar": "Contents",
   "toc_cell": false,
   "toc_position": {},
   "toc_section_display": true,
   "toc_window_display": true
  }
 },
 "nbformat": 4,
 "nbformat_minor": 4
}
