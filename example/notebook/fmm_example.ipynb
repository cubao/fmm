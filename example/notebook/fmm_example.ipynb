{
 "cells": [
  {
   "cell_type": "markdown",
   "metadata": {},
   "source": [
    "## Demo of fmm Python API"
   ]
  },
  {
   "cell_type": "code",
   "execution_count": 1,
   "metadata": {},
   "outputs": [],
   "source": [
    "from fmm import Network,NetworkGraph,FastMapMatch,FastMapMatchConfig,UBODT"
   ]
  },
  {
   "cell_type": "markdown",
   "metadata": {},
   "source": [
    "### Load network data and graph"
   ]
  },
  {
   "cell_type": "code",
   "execution_count": 2,
   "metadata": {},
   "outputs": [
    {
     "name": "stdout",
     "output_type": "stream",
     "text": [
      "Nodes 17 edges 30\n",
      "[2023-06-04 11:09:09.719] [info] [network.cpp:155] Read network from file /home/tzx/git/fmm/example/notebook/../data/edges.shp\n",
      "[2023-06-04 11:09:09.751] [info] [network.cpp:232] Number of edges 30 nodes 17\n",
      "[2023-06-04 11:09:09.751] [info] [network.cpp:233] Field index: id 1 source 2 target 3\n",
      "[2023-06-04 11:09:09.751] [info] [network.cpp:236] Read network done.\n",
      "[2023-06-04 11:09:09.752] [info] [network_graph.cpp:18] Construct graph from network edges start\n",
      "[2023-06-04 11:09:09.752] [info] [network_graph.cpp:31] Graph nodes 17 edges 30\n",
      "[2023-06-04 11:09:09.752] [info] [network_graph.cpp:32] Construct graph from network edges end\n"
     ]
    }
   ],
   "source": [
    "import os\n",
    "PWD = os.getcwd() # os.path.abspath(os.path.dirname(__file__))\n",
    "network = Network(f\"{PWD}/../data/edges.shp\")\n",
    "print(\"Nodes {} edges {}\".format(network.get_node_count(),network.get_edge_count()))\n",
    "graph = NetworkGraph(network)"
   ]
  },
  {
   "cell_type": "code",
   "execution_count": 3,
   "metadata": {},
   "outputs": [
    {
     "name": "stdout",
     "output_type": "stream",
     "text": [
      "{\"srid\":4326,\"edges\":[{\"id\":1,\"source\":1,\"target\":2,\"coordinates\":[[2.0,1.0],[2.0,0.0]]},{\"id\":2,\"source\":2,\"target\":1,\"coordinates\":[[2.0,0.0],[2.0,1.0]]},{\"id\":3,\"source\":3,\"target\":1,\"coordinates\":[[3.0,1.0],[2.0,1.0]]},{\"id\":4,\"source\":4,\"target\":3,\"coordinates\":[[4.0,1.0],[3.0,1.0]]},{\"id\":5,\"source\":1,\"target\":5,\"coordinates\":[[2.0,1.0],[2.0,2.0]]},{\"id\":6,\"source\":5,\"target\":1,\"coordinates\":[[2.0,2.0],[2.0,1.0]]},{\"id\":7,\"source\":3,\"target\":6,\"coordinates\":[[3.0,1.0],[3.0,2.0]]},{\"id\":8,\"\n",
      "2097\n"
     ]
    }
   ],
   "source": [
    "dumps = network.dumps()\n",
    "print(dumps[:500])\n",
    "print(len(dumps))"
   ]
  },
  {
   "cell_type": "code",
   "execution_count": 1,
   "metadata": {},
   "outputs": [
    {
     "ename": "NameError",
     "evalue": "name 'Network' is not defined",
     "output_type": "error",
     "traceback": [
      "\u001b[0;31m---------------------------------------------------------------------------\u001b[0m",
      "\u001b[0;31mNameError\u001b[0m                                 Traceback (most recent call last)",
      "Cell \u001b[0;32mIn[1], line 2\u001b[0m\n\u001b[1;32m      1\u001b[0m \u001b[38;5;66;03m# from/to_json\u001b[39;00m\n\u001b[0;32m----> 2\u001b[0m nn \u001b[38;5;241m=\u001b[39m \u001b[43mNetwork\u001b[49m()\n\u001b[1;32m      3\u001b[0m nn\u001b[38;5;241m.\u001b[39mloads(dumps)\n\u001b[1;32m      4\u001b[0m redumps \u001b[38;5;241m=\u001b[39m nn\u001b[38;5;241m.\u001b[39mdumps()\n",
      "\u001b[0;31mNameError\u001b[0m: name 'Network' is not defined"
     ]
    }
   ],
   "source": [
    "# from/to_json\n",
    "nn = Network()\n",
    "nn.loads(dumps)\n",
    "redumps = nn.dumps()\n",
    "assert redumps == dumps, f'old: {dumps},\\nnew: {redumps}'\n",
    "# network.dump('network.json')"
   ]
  },
  {
   "cell_type": "markdown",
   "metadata": {},
   "source": [
    "### Precompute an UBODT file\n",
    "\n",
    "**This step can be skipped if you already created one UBODT file.**"
   ]
  },
  {
   "cell_type": "code",
   "execution_count": 6,
   "metadata": {},
   "outputs": [],
   "source": [
    "from fmm import UBODTGenAlgorithm"
   ]
  },
  {
   "cell_type": "code",
   "execution_count": 7,
   "metadata": {},
   "outputs": [],
   "source": [
    "ubodt_gen = UBODTGenAlgorithm(network,graph)"
   ]
  },
  {
   "cell_type": "code",
   "execution_count": 8,
   "metadata": {},
   "outputs": [
    {
     "name": "stdout",
     "output_type": "stream",
     "text": [
      "[2023-06-04 10:36:16.393] [info] [ubodt_gen_algorithm.cpp:94] Start to generate UBODT with delta 4\n",
      "[2023-06-04 10:36:16.393] [info] [ubodt_gen_algorithm.cpp:95] Output format csv\n",
      "Status: success\n",
      "Time takes 0.024 seconds\n",
      "\n",
      "[2023-06-04 10:36:16.405] [info] [ubodt_gen_algorithm.cpp:124] Progress 10 / 17\n"
     ]
    }
   ],
   "source": [
    "status = ubodt_gen.generate_ubodt(f\"{PWD}/../data/ubodt.txt\", 4, binary=False, use_omp=True)\n",
    "print(status)"
   ]
  },
  {
   "cell_type": "code",
   "execution_count": null,
   "metadata": {},
   "outputs": [],
   "source": [
    "path = f\"{PWD}/../data/ubodt.json\"\n",
    "status = ubodt_gen.generate_ubodt(path, 4, binary=False)\n",
    "print(status)"
   ]
  },
  {
   "cell_type": "markdown",
   "metadata": {},
   "source": [
    "### Load UBODT data"
   ]
  },
  {
   "cell_type": "code",
   "execution_count": null,
   "metadata": {},
   "outputs": [],
   "source": [
    "ubodt = UBODT.read_ubodt_csv(f\"{PWD}/../data/ubodt.txt\")"
   ]
  },
  {
   "cell_type": "markdown",
   "metadata": {},
   "source": [
    "### Create FMM model"
   ]
  },
  {
   "cell_type": "code",
   "execution_count": null,
   "metadata": {},
   "outputs": [],
   "source": [
    "model = FastMapMatch(network,graph,ubodt)"
   ]
  },
  {
   "cell_type": "markdown",
   "metadata": {},
   "source": [
    "### Define FMM configuration"
   ]
  },
  {
   "cell_type": "code",
   "execution_count": null,
   "metadata": {},
   "outputs": [],
   "source": [
    "k = 4\n",
    "radius = 0.4\n",
    "gps_error = 0.5\n",
    "fmm_config = FastMapMatchConfig(k,radius,gps_error)"
   ]
  },
  {
   "cell_type": "markdown",
   "metadata": {},
   "source": [
    "### Run map matching"
   ]
  },
  {
   "cell_type": "markdown",
   "metadata": {},
   "source": [
    "#### Match a single trajectory"
   ]
  },
  {
   "cell_type": "code",
   "execution_count": null,
   "metadata": {},
   "outputs": [],
   "source": [
    "wkt = \"LINESTRING(0.200812146892656 2.14088983050848,1.44262005649717 2.14879943502825,3.06408898305084 2.16066384180791,3.06408898305084 2.7103813559322,3.70872175141242 2.97930790960452,4.11606638418078 2.62337570621469)\""
   ]
  },
  {
   "cell_type": "code",
   "execution_count": null,
   "metadata": {},
   "outputs": [],
   "source": [
    "result = model.match_wkt(wkt,fmm_config)"
   ]
  },
  {
   "cell_type": "code",
   "execution_count": null,
   "metadata": {},
   "outputs": [],
   "source": [
    "print(\"Matched path: \", list(result.cpath))\n",
    "print(\"Matched edge for each point: \", list(result.opath))\n",
    "print(\"Matched edge index \",list(result.indices))\n",
    "print(\"Matched geometry: \",result.mgeom.export_wkt())\n",
    "print(\"Matched point \", result.pgeom.export_wkt())"
   ]
  },
  {
   "cell_type": "markdown",
   "metadata": {},
   "source": [
    "##### Print detailed match information"
   ]
  },
  {
   "cell_type": "code",
   "execution_count": null,
   "metadata": {},
   "outputs": [],
   "source": [
    "candidates = []\n",
    "for c in result.candidates:\n",
    "    candidates.append((c.edge_id,c.source,c.target,c.error,c.length,c.offset,c.spdist,c.ep,c.tp))"
   ]
  },
  {
   "cell_type": "code",
   "execution_count": null,
   "metadata": {},
   "outputs": [],
   "source": [
    "import pandas as pd\n",
    "df = pd.DataFrame(candidates,\n",
    "                  columns=[\"eid\",\"source\",\"target\",\"error\",\"length\",\"offset\",\"spdist\",\"ep\",\"tp\"])"
   ]
  },
  {
   "cell_type": "code",
   "execution_count": null,
   "metadata": {},
   "outputs": [],
   "source": [
    "df.head()"
   ]
  },
  {
   "cell_type": "markdown",
   "metadata": {},
   "source": [
    "#### Match trajectories in a GPS file"
   ]
  },
  {
   "cell_type": "code",
   "execution_count": null,
   "metadata": {},
   "outputs": [],
   "source": [
    "from fmm import GPSConfig,ResultConfig"
   ]
  },
  {
   "cell_type": "code",
   "execution_count": null,
   "metadata": {},
   "outputs": [],
   "source": [
    "input_config = GPSConfig()\n",
    "input_config.file = f\"{PWD}/../data/trips.csv\"\n",
    "input_config.id = \"id\""
   ]
  },
  {
   "cell_type": "code",
   "execution_count": null,
   "metadata": {},
   "outputs": [],
   "source": [
    "print(input_config.to_string())"
   ]
  },
  {
   "cell_type": "code",
   "execution_count": null,
   "metadata": {},
   "outputs": [],
   "source": [
    "result_config = ResultConfig()\n",
    "result_config.file = f\"{PWD}/../data/mr.txt\"\n",
    "result_config.output_config.write_opath = True\n",
    "print(result_config.to_string())"
   ]
  },
  {
   "cell_type": "code",
   "execution_count": null,
   "metadata": {},
   "outputs": [],
   "source": [
    "status = model.match_gps_file(input_config, result_config, fmm_config)"
   ]
  },
  {
   "cell_type": "code",
   "execution_count": null,
   "metadata": {},
   "outputs": [],
   "source": [
    "print(status)"
   ]
  },
  {
   "cell_type": "code",
   "execution_count": null,
   "metadata": {},
   "outputs": [],
   "source": []
  }
 ],
 "metadata": {
  "kernelspec": {
   "display_name": "Python 3 (ipykernel)",
   "language": "python",
   "name": "python3"
  },
  "language_info": {
   "codemirror_mode": {
    "name": "ipython",
    "version": 3
   },
   "file_extension": ".py",
   "mimetype": "text/x-python",
   "name": "python",
   "nbconvert_exporter": "python",
   "pygments_lexer": "ipython3",
   "version": "3.10.6"
  },
  "toc": {
   "base_numbering": 1,
   "nav_menu": {},
   "number_sections": true,
   "sideBar": true,
   "skip_h1_title": false,
   "title_cell": "Table of Contents",
   "title_sidebar": "Contents",
   "toc_cell": false,
   "toc_position": {},
   "toc_section_display": true,
   "toc_window_display": true
  }
 },
 "nbformat": 4,
 "nbformat_minor": 4
}
